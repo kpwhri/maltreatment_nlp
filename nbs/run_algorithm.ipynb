{
 "cells": [
  {
   "cell_type": "markdown",
   "metadata": {
    "collapsed": true,
    "pycharm": {
     "name": "#%% md\n"
    }
   },
   "source": [
    "# Example Running of Algorithm\n",
    "\n",
    "* Show how to run the regular expressions\n",
    "* Show how to post-process results using pandas (requires install: `pip install pandas`)"
   ]
  },
  {
   "cell_type": "code",
   "execution_count": null,
   "outputs": [],
   "source": [
    "import pandas as pd\n",
    "import re\n",
    "\n",
    "import sys\n",
    "sys.path.append(r'C:\\wksp\\maltreatment_nlp\\src')\n",
    "\n",
    "from maltreatment_nlp import run"
   ],
   "metadata": {
    "collapsed": false,
    "pycharm": {
     "name": "#%%\n"
    }
   }
  },
  {
   "cell_type": "markdown",
   "source": [
    "# Run Algorithm"
   ],
   "metadata": {
    "collapsed": false,
    "pycharm": {
     "name": "#%% md\n"
    }
   }
  },
  {
   "cell_type": "code",
   "execution_count": null,
   "outputs": [],
   "source": [
    "notes = get_my_text_notes()  # function to get text notes (let's assume it returns tuples of `(note_id, note_text)`)"
   ],
   "metadata": {
    "collapsed": false,
    "pycharm": {
     "name": "#%%\n"
    }
   }
  },
  {
   "cell_type": "code",
   "execution_count": null,
   "outputs": [],
   "source": [
    "def run_maltreatment(notes):\n",
    "    for note_id, note in notes:\n",
    "        yield run.run(note, note_id=note_id)"
   ],
   "metadata": {
    "collapsed": false,
    "pycharm": {
     "name": "#%%\n"
    }
   }
  },
  {
   "cell_type": "code",
   "execution_count": null,
   "outputs": [],
   "source": [
    "df = pd.DataFrame.from_records(run_maltreatment(notes))\n",
    "df['pattern'].value_counts()  # what patterns were found?"
   ],
   "metadata": {
    "collapsed": false,
    "pycharm": {
     "name": "#%%\n"
    }
   }
  },
  {
   "cell_type": "markdown",
   "source": [
    "# Clean Algorithm Results/Post-processing"
   ],
   "metadata": {
    "collapsed": false
   }
  },
  {
   "cell_type": "code",
   "execution_count": null,
   "outputs": [],
   "source": [
    "# prepare versions of text to write post-processing rules against\n",
    "df['pre_context'] = df.pre_context.str.lower()\n",
    "df['termlc'] = df.term.str.lower()\n",
    "df['post_context'] = df.post_context.str.lower()\n",
    "df['pre_term_lc'] = df.pre_context + ' ' + df.termlc\n",
    "df['post_term_lc'] = df.termlc + ' ' + df.post_context\n",
    "df = df.fillna('')"
   ],
   "metadata": {
    "collapsed": false,
    "pycharm": {
     "name": "#%%\n"
    }
   }
  },
  {
   "cell_type": "code",
   "execution_count": null,
   "outputs": [],
   "source": [
    "# some helper filters\n",
    "family = (\n",
    "    r'(his|her|their|mom\\W?s|dad\\W?s)?'\n",
    "    r'\\W*(older|younger|elder)?'\n",
    "    r'\\W*(step\\W*)?'\n",
    "    r'('\n",
    "    r'father|dad|brother|bro|mom|mother|sis|sister|aunt|uncle|relative|parents?'\n",
    "    r'|bf|boy\\W?friend|girl\\W?friend|gf|husband|wife|partner|family'\n",
    "    r')'\n",
    ")\n",
    "by_family = fr'by\\W*{family}'\n",
    "from_family = fr'(by|from)\\W*{family}'\n",
    "to_family = fr'(to|with)\\W*{family}'\n",
    "by_family_rx = re.compile(by_family, re.I)\n",
    "to_family_rx = re.compile(to_family, re.I)\n",
    "by_family_filter = df.post_context.str.contains(by_family_rx)\n",
    "to_family_filter = df.post_context.str.contains(to_family_rx)"
   ],
   "metadata": {
    "collapsed": false,
    "pycharm": {
     "name": "#%%\n"
    }
   }
  },
  {
   "cell_type": "code",
   "execution_count": null,
   "outputs": [],
   "source": [
    "print(f'Size before filtering: {df.shape[0]}')"
   ],
   "metadata": {
    "collapsed": false,
    "pycharm": {
     "name": "#%%\n"
    }
   }
  },
  {
   "cell_type": "markdown",
   "source": [
    "## All Patterns"
   ],
   "metadata": {
    "collapsed": false,
    "pycharm": {
     "name": "#%% md\n"
    }
   }
  },
  {
   "cell_type": "code",
   "execution_count": null,
   "outputs": [],
   "source": [
    "exclude_terms = (r'\\b('\n",
    "                 r'cardiac|activity|heart|opioid|drug|alcohol|cannabis|marijuana|etoh|asthma|(poly)?substance|panic'\n",
    "                 r'|ocd'\n",
    "                 r')\\b')\n",
    "\n",
    "exclude_abuse_template = (df.termlc.isin({'sexually abused', 'abused'})) & (df.pre_context.str.contains('if'))\n",
    "not_on_file = (df.post_context.str.strip().str[:30].str.contains(r'\\b(not on file|negative|none|denies)\\b'))\n",
    "exclude_attack = (df.termlc.str.contains(exclude_terms))\n",
    "exclude_pre_attack = (df.pre_context.str[-20:].str.contains(exclude_terms))\n",
    "past_age = (df.post_context.str.strip().str[:30].str.contains(\n",
    "    r'\\b(?:'\n",
    "    r'when (?:(?:he|she|they) )?was \\d+'\n",
    "    r'|\\d+ years ago'\n",
    "    r'|at age \\d+'\n",
    "    r')\\b'\n",
    "))\n",
    "\n",
    "df = df[\n",
    "    ~(exclude_abuse_template\n",
    "      | not_on_file\n",
    "      | exclude_attack\n",
    "      | exclude_pre_attack\n",
    "      | to_family_filter\n",
    "      )\n",
    "]\n",
    "print(f'Size after general cleaning: {df.shape[0]}')"
   ],
   "metadata": {
    "collapsed": false,
    "pycharm": {
     "name": "#%%\n"
    }
   }
  },
  {
   "cell_type": "markdown",
   "source": [
    "## Individual Patterns\n",
    "\n",
    "* Example template"
   ],
   "metadata": {
    "collapsed": false,
    "pycharm": {
     "name": "#%% md\n"
    }
   }
  },
  {
   "cell_type": "code",
   "execution_count": null,
   "outputs": [],
   "source": [
    "df = df[\n",
    "    ~((df.pattern == 'EXAMPLE_PAT') &\n",
    "      (exclude_pattern | another_exclude_pattern)\n",
    "    )\n",
    "]\n",
    "\n",
    "print(f'Size after EXAMPLE_PAT: {df.shape[0]}')\n"
   ],
   "metadata": {
    "collapsed": false,
    "pycharm": {
     "name": "#%%\n"
    }
   }
  },
  {
   "cell_type": "markdown",
   "source": [
    "# Exporting Data"
   ],
   "metadata": {
    "collapsed": false,
    "pycharm": {
     "name": "#%% md\n"
    }
   }
  },
  {
   "cell_type": "code",
   "execution_count": null,
   "outputs": [],
   "source": [
    "df['value'] = 1\n",
    "result_df = df[['note_id', 'pattern', 'value']].pivot_table(\n",
    "    index='note_id', columns='pattern', values='value', fill_value=0, aggfunc=sum\n",
    ").reset_index()\n",
    "result_df.head()"
   ],
   "metadata": {
    "collapsed": false,
    "pycharm": {
     "name": "#%%\n"
    }
   }
  },
  {
   "cell_type": "markdown",
   "source": [
    "## Define Case-ness"
   ],
   "metadata": {
    "collapsed": false,
    "pycharm": {
     "name": "#%% md\n"
    }
   }
  },
  {
   "cell_type": "code",
   "execution_count": null,
   "outputs": [],
   "source": [
    "def is_case(row):\n",
    "    if row['EXAMPLE_PAT'] == 1:\n",
    "        return 1\n",
    "    return 0"
   ],
   "metadata": {
    "collapsed": false,
    "pycharm": {
     "name": "#%%\n"
    }
   }
  },
  {
   "cell_type": "code",
   "execution_count": null,
   "outputs": [],
   "source": [
    "result_df['case'] = result_df.apply(is_case, axis=1)"
   ],
   "metadata": {
    "collapsed": false,
    "pycharm": {
     "name": "#%%\n"
    }
   }
  },
  {
   "cell_type": "code",
   "execution_count": null,
   "outputs": [],
   "source": [
    "result_df.to_csv('output_data.csv', index=False)\n"
   ],
   "metadata": {
    "collapsed": false,
    "pycharm": {
     "name": "#%%\n"
    }
   }
  }
 ],
 "metadata": {
  "kernelspec": {
   "display_name": "Python 3",
   "language": "python",
   "name": "python3"
  },
  "language_info": {
   "codemirror_mode": {
    "name": "ipython",
    "version": 2
   },
   "file_extension": ".py",
   "mimetype": "text/x-python",
   "name": "python",
   "nbconvert_exporter": "python",
   "pygments_lexer": "ipython2",
   "version": "2.7.6"
  }
 },
 "nbformat": 4,
 "nbformat_minor": 0
}